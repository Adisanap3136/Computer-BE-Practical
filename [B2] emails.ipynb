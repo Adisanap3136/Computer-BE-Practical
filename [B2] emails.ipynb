{
 "cells": [
  {
   "cell_type": "code",
   "execution_count": 8,
   "id": "aeb81ff7-4bad-49ed-b45e-35849b95cded",
   "metadata": {},
   "outputs": [],
   "source": [
    "# Import necessary libraries\n",
    "import pandas as pd\n",
    "from sklearn.model_selection import train_test_split\n",
    "from sklearn.feature_extraction.text import TfidfVectorizer\n",
    "from sklearn.neighbors import KNeighborsClassifier\n",
    "from sklearn.svm import SVC\n",
    "from sklearn.metrics import accuracy_score, classification_report\n",
    "import warnings\n",
    "warnings.filterwarnings('ignore')"
   ]
  },
  {
   "cell_type": "code",
   "execution_count": 9,
   "id": "717e9a90-b77b-47b9-b3b2-baa40bbd7cb2",
   "metadata": {},
   "outputs": [],
   "source": [
    "# Step 1: Load dataset (example with 'email' and 'spam' columns)\n",
    "# Replace 'emails.csv' with your dataset file\n",
    "data = pd.read_csv(r\"C:\\Users\\Asus\\Documents\\IRONMAN\\ML\\emails.csv\")\n",
    "X = data['email'].astype(str)  # Ensure all entries are strings\n",
    "y = data['spam']  # 0 for Not Spam, 1 for Spam"
   ]
  },
  {
   "cell_type": "code",
   "execution_count": 10,
   "id": "195e98fa-2a7c-4c97-a46e-f1f7aa1d3b7b",
   "metadata": {},
   "outputs": [],
   "source": [
    "# Step 2: Text Preprocessing using TF-IDF Vectorization\n",
    "vectorizer = TfidfVectorizer()\n",
    "X_transformed = vectorizer.fit_transform(X)"
   ]
  },
  {
   "cell_type": "code",
   "execution_count": 11,
   "id": "5a941b9f-233e-4a0e-8ef0-84720f6b648b",
   "metadata": {},
   "outputs": [],
   "source": [
    "# Step 3: Split the data into training and test sets\n",
    "X_train, X_test, y_train, y_test = train_test_split(X_transformed, y, test_size=0.3, random_state=42)"
   ]
  },
  {
   "cell_type": "code",
   "execution_count": 12,
   "id": "4362acaf-2219-4aaa-a977-f07362aa6706",
   "metadata": {},
   "outputs": [],
   "source": [
    "# Step 4: K-Nearest Neighbors (KNN) Classification\n",
    "knn = KNeighborsClassifier(n_neighbors=5)\n",
    "knn.fit(X_train, y_train)\n",
    "y_pred_knn = knn.predict(X_test)"
   ]
  },
  {
   "cell_type": "code",
   "execution_count": 13,
   "id": "f9d095ad-85c5-4dea-8d04-2caf49bb8786",
   "metadata": {},
   "outputs": [],
   "source": [
    "# Step 5: Support Vector Machine (SVM) Classification\n",
    "svm = SVC(kernel='linear')\n",
    "svm.fit(X_train, y_train)\n",
    "y_pred_svm = svm.predict(X_test)"
   ]
  },
  {
   "cell_type": "code",
   "execution_count": 14,
   "id": "ab886a75-4cc2-46ee-80a9-32d33421bb3c",
   "metadata": {},
   "outputs": [
    {
     "name": "stdout",
     "output_type": "stream",
     "text": [
      "KNN Classifier:\n",
      "Accuracy: 0.9864690721649485\n",
      "Classification Report:\n",
      "               precision    recall  f1-score   support\n",
      "\n",
      "           0       0.99      1.00      0.99      1531\n",
      "           1       0.00      0.00      0.00        20\n",
      "           3       0.00      0.00      0.00         1\n",
      "\n",
      "    accuracy                           0.99      1552\n",
      "   macro avg       0.33      0.33      0.33      1552\n",
      "weighted avg       0.97      0.99      0.98      1552\n",
      "\n"
     ]
    }
   ],
   "source": [
    "# Step 6: Evaluate and Compare Performance\n",
    "print(\"KNN Classifier:\")\n",
    "print(\"Accuracy:\", accuracy_score(y_test, y_pred_knn))\n",
    "print(\"Classification Report:\\n\", classification_report(y_test, y_pred_knn))"
   ]
  },
  {
   "cell_type": "code",
   "execution_count": 15,
   "id": "49b1406e-a0c7-466d-b8fa-ef74b2d27fc4",
   "metadata": {},
   "outputs": [
    {
     "name": "stdout",
     "output_type": "stream",
     "text": [
      "\n",
      "SVM Classifier:\n",
      "Accuracy: 0.9864690721649485\n",
      "Classification Report:\n",
      "               precision    recall  f1-score   support\n",
      "\n",
      "           0       0.99      1.00      0.99      1531\n",
      "           1       0.00      0.00      0.00        20\n",
      "           3       0.00      0.00      0.00         1\n",
      "\n",
      "    accuracy                           0.99      1552\n",
      "   macro avg       0.33      0.33      0.33      1552\n",
      "weighted avg       0.97      0.99      0.98      1552\n",
      "\n"
     ]
    }
   ],
   "source": [
    "print(\"\\nSVM Classifier:\")\n",
    "print(\"Accuracy:\", accuracy_score(y_test, y_pred_svm))\n",
    "print(\"Classification Report:\\n\", classification_report(y_test, y_pred_svm))"
   ]
  },
  {
   "cell_type": "code",
   "execution_count": null,
   "id": "89145274-d80a-4227-8751-3ada3e7bd814",
   "metadata": {},
   "outputs": [],
   "source": []
  },
  {
   "cell_type": "code",
   "execution_count": null,
   "id": "427de2f6-cc82-46ce-aeeb-ac0f62b09e1d",
   "metadata": {},
   "outputs": [],
   "source": []
  }
 ],
 "metadata": {
  "kernelspec": {
   "display_name": "Python 3 (ipykernel)",
   "language": "python",
   "name": "python3"
  },
  "language_info": {
   "codemirror_mode": {
    "name": "ipython",
    "version": 3
   },
   "file_extension": ".py",
   "mimetype": "text/x-python",
   "name": "python",
   "nbconvert_exporter": "python",
   "pygments_lexer": "ipython3",
   "version": "3.12.5"
  }
 },
 "nbformat": 4,
 "nbformat_minor": 5
}
